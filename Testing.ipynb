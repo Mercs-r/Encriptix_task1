{
 "cells": [
  {
   "cell_type": "code",
   "execution_count": null,
   "metadata": {},
   "outputs": [],
   "source": [
    "import pandas as pd\n",
    "import joblib"
   ]
  },
  {
   "cell_type": "code",
   "execution_count": null,
   "metadata": {},
   "outputs": [],
   "source": [
    "\n",
    "# Load testing data\n",
    "test_file = \"Test data.txt\"\n",
    "test_data = []\n",
    "with open(test_file, \"r\") as file:\n",
    "    for line in file:\n",
    "        parts = line.strip().split(\" ::: \")\n",
    "        if len(parts) == 4:\n",
    "            test_data.append(parts)"
   ]
  },
  {
   "cell_type": "code",
   "execution_count": null,
   "metadata": {},
   "outputs": [],
   "source": [
    "\n",
    "df_test = pd.DataFrame(test_data, columns=[\"ID\", \"Title_Year\", \"Genre\", \"Plot\"])\n",
    "df_test = df_test.drop(columns=[\"ID\", \"Title_Year\"])\n"
   ]
  },
  {
   "cell_type": "code",
   "execution_count": null,
   "metadata": {},
   "outputs": [],
   "source": [
    "\n",
    "# Load trained model\n",
    "model = joblib.load(\"trained_model.pkl\")\n",
    "\n",
    "# Make predictions and evaluate\n",
    "predictions = model.predict(df_test[\"Plot\"])\n",
    "df_test[\"Predicted_Genre\"] = predictions\n",
    "\n",
    "# Save results\n",
    "df_test.to_csv(\"test_results.csv\", index=False)\n",
    "print(\"Predictions saved to test_results.csv\")\n"
   ]
  }
 ],
 "metadata": {
  "kernelspec": {
   "display_name": "spyder-env",
   "language": "python",
   "name": "python3"
  },
  "language_info": {
   "name": "python",
   "version": "3.9.20"
  }
 },
 "nbformat": 4,
 "nbformat_minor": 2
}
